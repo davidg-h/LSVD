{
 "cells": [
  {
   "cell_type": "markdown",
   "metadata": {},
   "source": [
    "# Text to Audio\n",
    "\n",
    "1. Prompt user for advertisement description\n",
    "2. Perform sentimental analysis\n",
    "3. Add the corresponding sentimental analysis into the user prompt\n",
    "4. Generate the audio for the advertisement"
   ]
  },
  {
   "cell_type": "code",
   "execution_count": 1,
   "metadata": {},
   "outputs": [
    {
     "name": "stdout",
     "output_type": "stream",
     "text": [
      "Looking in indexes: https://pypi.org/simple, https://pypi.ngc.nvidia.com\n",
      "Requirement already satisfied: transformers in /Users/shuyi/Documents/NTU/Y3S1/AI/LSVD/venv/lib/python3.10/site-packages (4.45.2)\n",
      "Requirement already satisfied: filelock in /Users/shuyi/Documents/NTU/Y3S1/AI/LSVD/venv/lib/python3.10/site-packages (from transformers) (3.16.1)\n",
      "Requirement already satisfied: huggingface-hub<1.0,>=0.23.2 in /Users/shuyi/Documents/NTU/Y3S1/AI/LSVD/venv/lib/python3.10/site-packages (from transformers) (0.25.1)\n",
      "Requirement already satisfied: numpy>=1.17 in /Users/shuyi/Documents/NTU/Y3S1/AI/LSVD/venv/lib/python3.10/site-packages (from transformers) (2.1.2)\n",
      "Requirement already satisfied: packaging>=20.0 in /Users/shuyi/Documents/NTU/Y3S1/AI/LSVD/venv/lib/python3.10/site-packages (from transformers) (24.1)\n",
      "Requirement already satisfied: pyyaml>=5.1 in /Users/shuyi/Documents/NTU/Y3S1/AI/LSVD/venv/lib/python3.10/site-packages (from transformers) (6.0.2)\n",
      "Requirement already satisfied: regex!=2019.12.17 in /Users/shuyi/Documents/NTU/Y3S1/AI/LSVD/venv/lib/python3.10/site-packages (from transformers) (2024.9.11)\n",
      "Requirement already satisfied: requests in /Users/shuyi/Documents/NTU/Y3S1/AI/LSVD/venv/lib/python3.10/site-packages (from transformers) (2.32.3)\n",
      "Requirement already satisfied: safetensors>=0.4.1 in /Users/shuyi/Documents/NTU/Y3S1/AI/LSVD/venv/lib/python3.10/site-packages (from transformers) (0.4.5)\n",
      "Requirement already satisfied: tokenizers<0.21,>=0.20 in /Users/shuyi/Documents/NTU/Y3S1/AI/LSVD/venv/lib/python3.10/site-packages (from transformers) (0.20.0)\n",
      "Requirement already satisfied: tqdm>=4.27 in /Users/shuyi/Documents/NTU/Y3S1/AI/LSVD/venv/lib/python3.10/site-packages (from transformers) (4.66.5)\n",
      "Requirement already satisfied: fsspec>=2023.5.0 in /Users/shuyi/Documents/NTU/Y3S1/AI/LSVD/venv/lib/python3.10/site-packages (from huggingface-hub<1.0,>=0.23.2->transformers) (2024.9.0)\n",
      "Requirement already satisfied: typing-extensions>=3.7.4.3 in /Users/shuyi/Documents/NTU/Y3S1/AI/LSVD/venv/lib/python3.10/site-packages (from huggingface-hub<1.0,>=0.23.2->transformers) (4.12.2)\n",
      "Requirement already satisfied: charset-normalizer<4,>=2 in /Users/shuyi/Documents/NTU/Y3S1/AI/LSVD/venv/lib/python3.10/site-packages (from requests->transformers) (3.3.2)\n",
      "Requirement already satisfied: idna<4,>=2.5 in /Users/shuyi/Documents/NTU/Y3S1/AI/LSVD/venv/lib/python3.10/site-packages (from requests->transformers) (3.10)\n",
      "Requirement already satisfied: urllib3<3,>=1.21.1 in /Users/shuyi/Documents/NTU/Y3S1/AI/LSVD/venv/lib/python3.10/site-packages (from requests->transformers) (2.2.3)\n",
      "Requirement already satisfied: certifi>=2017.4.17 in /Users/shuyi/Documents/NTU/Y3S1/AI/LSVD/venv/lib/python3.10/site-packages (from requests->transformers) (2024.8.30)\n",
      "Looking in indexes: https://pypi.org/simple, https://pypi.ngc.nvidia.com\n",
      "Requirement already satisfied: scipy in /Users/shuyi/Documents/NTU/Y3S1/AI/LSVD/venv/lib/python3.10/site-packages (1.14.1)\n",
      "Requirement already satisfied: numpy<2.3,>=1.23.5 in /Users/shuyi/Documents/NTU/Y3S1/AI/LSVD/venv/lib/python3.10/site-packages (from scipy) (2.1.2)\n"
     ]
    }
   ],
   "source": [
    "# Ensure relevant libraries are installed\n",
    "\n",
    "!pip install transformers\n",
    "!pip install scipy"
   ]
  },
  {
   "cell_type": "markdown",
   "metadata": {},
   "source": [
    "### Sentimental Analysis"
   ]
  },
  {
   "cell_type": "code",
   "execution_count": 2,
   "metadata": {},
   "outputs": [
    {
     "name": "stderr",
     "output_type": "stream",
     "text": [
      "/Users/shuyi/Documents/NTU/Y3S1/AI/LSVD/venv/lib/python3.10/site-packages/tqdm/auto.py:21: TqdmWarning: IProgress not found. Please update jupyter and ipywidgets. See https://ipywidgets.readthedocs.io/en/stable/user_install.html\n",
      "  from .autonotebook import tqdm as notebook_tqdm\n",
      "Hardware accelerator e.g. GPU is available in the environment, but no `device` argument is passed to the `Pipeline` object. Model will be on CPU.\n",
      "/Users/shuyi/Documents/NTU/Y3S1/AI/LSVD/venv/lib/python3.10/site-packages/transformers/pipelines/text_classification.py:104: UserWarning: `return_all_scores` is now deprecated,  if want a similar functionality use `top_k=None` instead of `return_all_scores=True` or `top_k=1` instead of `return_all_scores=False`.\n",
      "  warnings.warn(\n"
     ]
    }
   ],
   "source": [
    "from transformers import pipeline\n",
    "classifier = pipeline(\"text-classification\", model=\"j-hartmann/emotion-english-distilroberta-base\", return_all_scores=True)\n",
    "\n",
    "# Input from user is stored into userInput\n",
    "userInput = input(\"Enter your ideal advertisement description: \")\n",
    "\n",
    "# analysis stores the classified user input for with the different confidence level of the emotions detected\n",
    "analysis = classifier(userInput)"
   ]
  },
  {
   "cell_type": "code",
   "execution_count": 3,
   "metadata": {},
   "outputs": [
    {
     "data": {
      "text/plain": [
       "[[{'label': 'anger', 'score': 0.0018198109464719892},\n",
       "  {'label': 'disgust', 'score': 0.0022392459213733673},\n",
       "  {'label': 'fear', 'score': 0.0018623342039063573},\n",
       "  {'label': 'joy', 'score': 0.4943576157093048},\n",
       "  {'label': 'neutral', 'score': 0.009080654941499233},\n",
       "  {'label': 'sadness', 'score': 0.4619666635990143},\n",
       "  {'label': 'surprise', 'score': 0.028673775494098663}]]"
      ]
     },
     "execution_count": 3,
     "metadata": {},
     "output_type": "execute_result"
    }
   ],
   "source": [
    "analysis"
   ]
  },
  {
   "cell_type": "markdown",
   "metadata": {},
   "source": [
    "Filtering of emotions to be added into the userInput, set a confidence level of minimum 0.40 to be considered as part of the mood in the advertisement."
   ]
  },
  {
   "cell_type": "code",
   "execution_count": 4,
   "metadata": {},
   "outputs": [
    {
     "data": {
      "text/plain": [
       "[{'label': 'joy', 'score': 0.4943576157093048},\n",
       " {'label': 'sadness', 'score': 0.4619666635990143}]"
      ]
     },
     "execution_count": 4,
     "metadata": {},
     "output_type": "execute_result"
    }
   ],
   "source": [
    "filtered_analysis = sorted([item for item in analysis[0] if item['score'] > 0.4], key=lambda x: x['score'], reverse=True)\n",
    "\n",
    "filtered_analysis"
   ]
  },
  {
   "cell_type": "code",
   "execution_count": 5,
   "metadata": {},
   "outputs": [
    {
     "name": "stdout",
     "output_type": "stream",
     "text": [
      "mood: joy, sadness\n"
     ]
    }
   ],
   "source": [
    "labels_string = \"mood: \" + \", \".join([item['label'] for item in filtered_analysis])\n",
    "print(labels_string)"
   ]
  },
  {
   "cell_type": "markdown",
   "metadata": {},
   "source": [
    "Final user input to be used to generate the audio"
   ]
  },
  {
   "cell_type": "code",
   "execution_count": 6,
   "metadata": {},
   "outputs": [
    {
     "name": "stdout",
     "output_type": "stream",
     "text": [
      "A happy woman walking down the street sees a lonely cat\n",
      "mood: joy, sadness\n"
     ]
    }
   ],
   "source": [
    "edited_user_input = \"\\n\".join([userInput, labels_string])\n",
    "print(edited_user_input)"
   ]
  },
  {
   "cell_type": "markdown",
   "metadata": {},
   "source": [
    "### Audio Generation from User Input"
   ]
  },
  {
   "cell_type": "code",
   "execution_count": 7,
   "metadata": {},
   "outputs": [
    {
     "name": "stderr",
     "output_type": "stream",
     "text": [
      "/Users/shuyi/Documents/NTU/Y3S1/AI/LSVD/venv/lib/python3.10/site-packages/transformers/models/encodec/modeling_encodec.py:124: UserWarning: To copy construct from a tensor, it is recommended to use sourceTensor.clone().detach() or sourceTensor.clone().detach().requires_grad_(True), rather than torch.tensor(sourceTensor).\n",
      "  self.register_buffer(\"padding_total\", torch.tensor(kernel_size - stride, dtype=torch.int64), persistent=False)\n",
      "Hardware accelerator e.g. GPU is available in the environment, but no `device` argument is passed to the `Pipeline` object. Model will be on CPU.\n",
      "`torch.nn.functional.scaled_dot_product_attention` does not support having an empty attention mask. Falling back to the manual attention implementation. This warning can be removed using the argument `attn_implementation=\"eager\"` when loading the model.Note that this probably happens because `guidance_scale>1` or because you used `get_unconditional_inputs`. See https://github.com/huggingface/transformers/issues/31189 for more information.\n"
     ]
    }
   ],
   "source": [
    "from transformers import pipeline\n",
    "import scipy\n",
    "\n",
    "synthesiser = pipeline(\"text-to-audio\", \"facebook/musicgen-small\")\n",
    "\n",
    "# Use the edited_user_input which contains additional information from the sentimental analysis\n",
    "music = synthesiser(edited_user_input, forward_params={\"do_sample\": True})\n",
    "\n",
    "# Output the final audio into a .wav file\n",
    "scipy.io.wavfile.write(\"musicgen_out.wav\", rate=music[\"sampling_rate\"], data=music[\"audio\"])"
   ]
  }
 ],
 "metadata": {
  "kernelspec": {
   "display_name": "venv",
   "language": "python",
   "name": "python3"
  },
  "language_info": {
   "codemirror_mode": {
    "name": "ipython",
    "version": 3
   },
   "file_extension": ".py",
   "mimetype": "text/x-python",
   "name": "python",
   "nbconvert_exporter": "python",
   "pygments_lexer": "ipython3",
   "version": "3.10.5"
  }
 },
 "nbformat": 4,
 "nbformat_minor": 2
}
